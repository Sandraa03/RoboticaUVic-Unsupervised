{
 "metadata": {
  "name": "",
  "signature": "sha256:6ef6d558b300772a9e25dc1350ead397dbd8ad6ff43c427d72f302926d5ecce1"
 },
 "nbformat": 3,
 "nbformat_minor": 0,
 "worksheets": [
  {
   "cells": [
    {
     "cell_type": "code",
     "collapsed": false,
     "input": [
      "import numpy as np\n",
      "from scipy.spatial import distance\n",
      "from sklearn.metrics import mean_squared_error as mse"
     ],
     "language": "python",
     "metadata": {},
     "outputs": []
    },
    {
     "cell_type": "markdown",
     "metadata": {},
     "source": [
      "Q1 Implement the K-Means algorithm. The K-Means technique is an iterative method to find the best K cluster centers of a set of data according to the reconstruction error (i.e. accumulated distances from the real points to their assigned centroids. Each iteration, the algorithm computes the assignemnt of each point to the closest centroid, and then recomputes the centroids based on the points that have been assigned to them.\n",
      "\n",
      "Here is the pseudocode for the K-Means algorithm:\n",
      "1) Initialize the K cluster centers C # To initialize use random values\u00b9 or, alternatively, K random points in the dataset.\n",
      "2) While Y changed during the last iteration do:\n",
      "    Assign each point to the nearest centroid\u00b2.\n",
      "3)     Y[i] = nearest_centroid(X[i], C)\n",
      "    Recompute each centroid as the mean of the points assigned to it\u00b2.\n",
      "4)     C = recompute_centroids(Y, X)\n",
      "5) Return C #Final stable centroids.\n",
      "\n",
      "    \u00b9 To avoid degenerate solutions, make sure that the random values are in the range taken by the components of the data set vectors.\n",
      "    \u00b2 Nearest_centroid and recompute_centroids have to compute respectively:\n",
      "    Nearest centroid\n",
      "    Update centroids\n"
     ]
    },
    {
     "cell_type": "code",
     "collapsed": false,
     "input": [
      "def KMeans(data, k, dim):\n",
      "    X = data[:,[range(0,dim)]]\n",
      "    Y = data[:k,[range(0,dim)]]\n",
      "    old_Y = np.zeros((K, dim))\n",
      "       \n",
      "    while (Y != old_Y).all():\n",
      "        old_Y = np.copy(Y)\n",
      "        clusters = np.zeros((k,X.shape[0]))\n",
      "        d_min = np.zeros((k,X.shape[0]))\n",
      "        for i in range(0,k):\n",
      "            for j in range(0,X.shape[0]):\n",
      "                clusters[i,j] = distance.euclidean(Y[i],X[j])\n",
      "        for a in range(0,clusters.shape[1]):\n",
      "            d_min[np.argmin(clusters[:,a]),a]=1\n",
      "        for i in range(0,k):\n",
      "            s = np.zeros((1,dim))\n",
      "            f = 0\n",
      "            for j in range(0,d_min.shape[1]):\n",
      "                if(d_min[i,j]==1):\n",
      "                    s = s + X[j]\n",
      "                    f = f + 1\n",
      "            Y[i] = s/f\n",
      "\n",
      "    return Y, d_min"
     ],
     "language": "python",
     "metadata": {},
     "outputs": []
    },
    {
     "cell_type": "markdown",
     "metadata": {},
     "source": [
      "Q2 Try the implemented K-Means algorithm with K=3 in the first two dimensions of the iris dataset, so you can visualize it. Then try it with the full four-dimensional vectors and report the MSE for each cluster and globally. Optional: Compare how far are the clusters from the actual center of each class (i.e. how well the clusters predict the classes)."
     ]
    },
    {
     "cell_type": "code",
     "collapsed": false,
     "input": [
      "K = 3\n",
      "data = np.loadtxt(\"iris.data\",delimiter = ',',usecols=range(0,4))\n",
      "\n",
      "y = np.zeros((K, data.shape[0]))\n",
      "y[0,[range(100,150)]]=1\n",
      "y[1,[range(50,100)]]=1\n",
      "y[2,[range(0,50)]]=1\n",
      "\n",
      "\n",
      "print \"First two dimensions of the iris dataset\"\n",
      "print\n",
      "\n",
      "#data = np.array([map(float, x.split(',')[:-3]) for x in open('iris.data') if x.strip()!=''])\n",
      "dim = 2\n",
      "a,b = KMeans(data, K, dim)\n",
      "print \"Final stable centroids are: \"\n",
      "print a\n",
      "print\n",
      "\n",
      "print \"Global MSE is:\"\n",
      "print mse(y,b)\n",
      "\n",
      "print \"MSE Cluster 1 is:\"\n",
      "print mse(y[0],b[0])\n",
      "\n",
      "print \"MSE Cluster 2 is:\"\n",
      "print mse(y[1],b[1])\n",
      "\n",
      "print \"MSE Cluster 3 is:\"\n",
      "print mse(y[2],b[2])\n",
      "\n",
      "print \n",
      "print\n",
      "\n",
      "print \"Full four-dimensions of the iris dataset\"\n",
      "print\n",
      "\n",
      "#data = np.array([map(float, x.split(',')[:-1]) for x in open('iris.data') if x.strip()!=''])\n",
      "dim = 4\n",
      "a, b = KMeans(data, K, dim)\n",
      "print \"Final stable centroids are: \"\n",
      "print a\n",
      "print\n",
      "\n",
      "\n",
      "print \"Global MSE is:\"\n",
      "print mse(y,b)\n",
      "\n",
      "print \"MSE Cluster 1 is:\"\n",
      "print mse(y[0],b[0])\n",
      "\n",
      "print \"MSE Cluster 2 is:\"\n",
      "print mse(y[1],b[1])\n",
      "\n",
      "print \"MSE Cluster 3 is:\"\n",
      "print mse(y[2],b[2])"
     ],
     "language": "python",
     "metadata": {},
     "outputs": []
    }
   ],
   "metadata": {}
  }
 ]
}