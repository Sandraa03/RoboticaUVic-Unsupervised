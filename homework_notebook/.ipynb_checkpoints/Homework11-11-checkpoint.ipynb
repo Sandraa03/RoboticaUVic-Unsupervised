{
 "metadata": {
  "name": "",
  "signature": "sha256:e2a6ee3ea6f8eb78abc44fdc46a8063b4d6bcbf7bf0418f0e6ecad05d2d78b99"
 },
 "nbformat": 3,
 "nbformat_minor": 0,
 "worksheets": [
  {
   "cells": [
    {
     "cell_type": "markdown",
     "metadata": {},
     "source": [
      "Q1 Implement the K-Means algorithm. The K-Means technique is an iterative method to find the best K cluster centers of a set of data according to the reconstruction error (i.e. accumulated distances from the real points to their assigned centroids. Each iteration, the algorithm computes the assignemnt of each point to the closest centroid, and then recomputes the centroids based on the points that have been assigned to them.\n",
      "\n",
      "Here is the pseudocode for the K-Means algorithm:\n",
      "1) Initialize the K cluster centers C # To initialize use random values\u00b9 or, alternatively, K random points in the dataset.\n",
      "2) While Y changed during the last iteration do:\n",
      "    Assign each point to the nearest centroid\u00b2.\n",
      "3)     Y[i] = nearest_centroid(X[i], C)\n",
      "    Recompute each centroid as the mean of the points assigned to it\u00b2.\n",
      "4)     C = recompute_centroids(Y, X)\n",
      "5) Return C #Final stable centroids.\n",
      "\n",
      "    \u00b9 To avoid degenerate solutions, make sure that the random values are in the range taken by the components of the data set vectors.\n",
      "    \u00b2 Nearest_centroid and recompute_centroids have to compute respectively:\n",
      "    Nearest centroid\n",
      "    Update centroids\n"
     ]
    },
    {
     "cell_type": "code",
     "collapsed": false,
     "input": [],
     "language": "python",
     "metadata": {},
     "outputs": []
    }
   ],
   "metadata": {}
  }
 ]
}